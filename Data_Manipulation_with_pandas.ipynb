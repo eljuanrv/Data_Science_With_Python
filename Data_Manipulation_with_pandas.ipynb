{
  "nbformat": 4,
  "nbformat_minor": 0,
  "metadata": {
    "colab": {
      "name": "Data Manipulation with pandas.ipynb",
      "provenance": [],
      "authorship_tag": "ABX9TyN9gE47BXcg8OTlBZ/avjT7",
      "include_colab_link": true
    },
    "kernelspec": {
      "name": "python3",
      "display_name": "Python 3"
    },
    "language_info": {
      "name": "python"
    }
  },
  "cells": [
    {
      "cell_type": "markdown",
      "metadata": {
        "id": "view-in-github",
        "colab_type": "text"
      },
      "source": [
        "<a href=\"https://colab.research.google.com/github/eljuanrv/Data_Science_With_Python/blob/main/Data_Manipulation_with_pandas.ipynb\" target=\"_parent\"><img src=\"https://colab.research.google.com/assets/colab-badge.svg\" alt=\"Open In Colab\"/></a>"
      ]
    },
    {
      "cell_type": "markdown",
      "source": [
        "Course Description\n",
        "pandas is the world's most popular Python library, used for everything from data manipulation to data analysis. In this course, you'll learn how to manipulate DataFrames, as you extract, filter, and transform real-world datasets for analysis. Using pandas you’ll explore all the core data science concepts. Using real-world data, including Walmart sales figures and global temperature time series, you’ll learn how to import, clean, calculate statistics, and create visualizations—using pandas to add to the power of Python!"
      ],
      "metadata": {
        "id": "mtrreRFiEgka"
      }
    },
    {
      "cell_type": "markdown",
      "source": [
        "# 1 Transforming DataFrames\n",
        "\n",
        "Let’s master the pandas basics. Learn how to inspect DataFrames and perform fundamental manipulations, including sorting rows, subsetting, and adding new columns."
      ],
      "metadata": {
        "id": "7t4-CkdIEokx"
      }
    },
    {
      "cell_type": "code",
      "source": [
        "import pandas as pd"
      ],
      "metadata": {
        "id": "iEmgpYfCJ6ab"
      },
      "execution_count": null,
      "outputs": []
    },
    {
      "cell_type": "code",
      "execution_count": null,
      "metadata": {
        "id": "8gTuynTeEWwa"
      },
      "outputs": [],
      "source": [
        ".head()#first rows"
      ]
    },
    {
      "cell_type": "code",
      "source": [
        ".info()#info about"
      ],
      "metadata": {
        "id": "3jN0zPdpFyI_"
      },
      "execution_count": null,
      "outputs": []
    },
    {
      "cell_type": "code",
      "source": [
        ".describe()#statistics"
      ],
      "metadata": {
        "id": "ZzSt5utwF3Ak"
      },
      "execution_count": null,
      "outputs": []
    },
    {
      "cell_type": "code",
      "source": [
        ".shape#dimentions"
      ],
      "metadata": {
        "id": "t0F4X1CgF1oA"
      },
      "execution_count": null,
      "outputs": []
    },
    {
      "cell_type": "code",
      "source": [
        ".values#data in two dimensional Numpy array"
      ],
      "metadata": {
        "id": "9xizHuMVGDId"
      },
      "execution_count": null,
      "outputs": []
    },
    {
      "cell_type": "code",
      "source": [
        ".columns#columns of the df"
      ],
      "metadata": {
        "id": "pG0i3_RIGN5l"
      },
      "execution_count": null,
      "outputs": []
    },
    {
      "cell_type": "code",
      "source": [
        ".index#indices of the df"
      ],
      "metadata": {
        "id": "T1arHhZgGRcn"
      },
      "execution_count": null,
      "outputs": []
    },
    {
      "cell_type": "code",
      "source": [
        ".sort_values(column,ascending=)#you can sor by multiple variables using a list of columns"
      ],
      "metadata": {
        "id": "McA9c9OtIMe7"
      },
      "execution_count": null,
      "outputs": []
    },
    {
      "cell_type": "code",
      "source": [
        ".isin(values)#you cal filter rows using this"
      ],
      "metadata": {
        "id": "A5ijuxApJZJR"
      },
      "execution_count": null,
      "outputs": []
    },
    {
      "cell_type": "markdown",
      "source": [
        "## SUMMARY STATISTICS"
      ],
      "metadata": {
        "id": "Yfw45oNoVw8p"
      }
    },
    {
      "cell_type": "code",
      "source": [
        ".mean()"
      ],
      "metadata": {
        "id": "2hZ1A2RwV1ym"
      },
      "execution_count": null,
      "outputs": []
    },
    {
      "cell_type": "code",
      "source": [
        ".median()"
      ],
      "metadata": {
        "id": "-udwMGa9WIje"
      },
      "execution_count": null,
      "outputs": []
    },
    {
      "cell_type": "code",
      "source": [
        ".mode()"
      ],
      "metadata": {
        "id": "o233uNyMWJ7W"
      },
      "execution_count": null,
      "outputs": []
    },
    {
      "cell_type": "code",
      "source": [
        ".min()"
      ],
      "metadata": {
        "id": "XlbkHbqdWLeh"
      },
      "execution_count": null,
      "outputs": []
    },
    {
      "cell_type": "code",
      "source": [
        ".max()"
      ],
      "metadata": {
        "id": "-QioTuFeWMZG"
      },
      "execution_count": null,
      "outputs": []
    },
    {
      "cell_type": "code",
      "source": [
        ".var()"
      ],
      "metadata": {
        "id": "Kz4Go5FqWQ5I"
      },
      "execution_count": null,
      "outputs": []
    },
    {
      "cell_type": "code",
      "source": [
        ".std()"
      ],
      "metadata": {
        "id": "yiB3JS5ZWSAe"
      },
      "execution_count": null,
      "outputs": []
    },
    {
      "cell_type": "code",
      "source": [
        ".sum()"
      ],
      "metadata": {
        "id": "O2-0mpfKWU5-"
      },
      "execution_count": null,
      "outputs": []
    },
    {
      "cell_type": "code",
      "source": [
        ".quantile()"
      ],
      "metadata": {
        "id": "_rVy-a_pWV5t"
      },
      "execution_count": null,
      "outputs": []
    },
    {
      "cell_type": "code",
      "source": [
        ".agg(function_name or list of functions)"
      ],
      "metadata": {
        "id": "X1SvjFs-WqyK"
      },
      "execution_count": null,
      "outputs": []
    },
    {
      "cell_type": "code",
      "source": [
        ".cumsum()"
      ],
      "metadata": {
        "id": "p1rjEpyCW9fy"
      },
      "execution_count": null,
      "outputs": []
    },
    {
      "cell_type": "code",
      "source": [
        ".cummax()"
      ],
      "metadata": {
        "id": "5BgdVoMAXH8J"
      },
      "execution_count": null,
      "outputs": []
    },
    {
      "cell_type": "code",
      "source": [
        ".cummin()"
      ],
      "metadata": {
        "id": "kkRlziTFXNCm"
      },
      "execution_count": null,
      "outputs": []
    },
    {
      "cell_type": "code",
      "source": [
        ".cumprod()"
      ],
      "metadata": {
        "id": "ytW4RLCDXOjD"
      },
      "execution_count": null,
      "outputs": []
    },
    {
      "cell_type": "markdown",
      "source": [
        "## count"
      ],
      "metadata": {
        "id": "0k0eypgCsGWy"
      }
    },
    {
      "cell_type": "code",
      "source": [
        ".drop_duplicates(subset=column)#the column could be just one or even more"
      ],
      "metadata": {
        "id": "m_9PTbXJsIS_"
      },
      "execution_count": null,
      "outputs": []
    },
    {
      "cell_type": "code",
      "source": [
        ".value_counts(sort=True)"
      ],
      "metadata": {
        "id": "9sNGcITjsc8G"
      },
      "execution_count": null,
      "outputs": []
    },
    {
      "cell_type": "code",
      "source": [
        ".value_counts(normalize=True)#return the fraction of the total of each value"
      ],
      "metadata": {
        "id": "RFAmwu-pssem"
      },
      "execution_count": null,
      "outputs": []
    },
    {
      "cell_type": "markdown",
      "source": [
        "# 2 Aggregating DataFrames\n",
        "\n",
        "In this chapter, you’ll calculate summary statistics on DataFrame columns, and master grouped summary statistics and pivot tables"
      ],
      "metadata": {
        "id": "0vxeRx1tEs-u"
      }
    },
    {
      "cell_type": "markdown",
      "source": [
        "# 3 Slicing and Indexing DataFrames\n",
        "\n",
        "Indexes are supercharged row and column names. Learn how they can be combined with slicing for powerful DataFrame subsetting"
      ],
      "metadata": {
        "id": "A3bYDicvE1IS"
      }
    },
    {
      "cell_type": "markdown",
      "source": [
        "# 4 Creating and Visualizing DataFrames\n",
        "\n",
        "Learn to visualize the contents of your DataFrames, handle missing data values, and import data from and export data to CSV files."
      ],
      "metadata": {
        "id": "UsT-SGzRE7FP"
      }
    },
    {
      "cell_type": "code",
      "source": [
        ""
      ],
      "metadata": {
        "id": "5Ejfllq2FCX-"
      },
      "execution_count": null,
      "outputs": []
    }
  ]
}