{
  "nbformat": 4,
  "nbformat_minor": 0,
  "metadata": {
    "colab": {
      "name": "Data Manipulation with pandas.ipynb",
      "provenance": [],
      "authorship_tag": "ABX9TyMHmWevl6NhtkQ25OXLhsi+",
      "include_colab_link": true
    },
    "kernelspec": {
      "name": "python3",
      "display_name": "Python 3"
    },
    "language_info": {
      "name": "python"
    }
  },
  "cells": [
    {
      "cell_type": "markdown",
      "metadata": {
        "id": "view-in-github",
        "colab_type": "text"
      },
      "source": [
        "<a href=\"https://colab.research.google.com/github/eljuanrv/Data_Science_With_Python/blob/main/Data_Manipulation_with_pandas.ipynb\" target=\"_parent\"><img src=\"https://colab.research.google.com/assets/colab-badge.svg\" alt=\"Open In Colab\"/></a>"
      ]
    },
    {
      "cell_type": "markdown",
      "source": [
        "Course Description\n",
        "pandas is the world's most popular Python library, used for everything from data manipulation to data analysis. In this course, you'll learn how to manipulate DataFrames, as you extract, filter, and transform real-world datasets for analysis. Using pandas you’ll explore all the core data science concepts. Using real-world data, including Walmart sales figures and global temperature time series, you’ll learn how to import, clean, calculate statistics, and create visualizations—using pandas to add to the power of Python!"
      ],
      "metadata": {
        "id": "mtrreRFiEgka"
      }
    },
    {
      "cell_type": "markdown",
      "source": [
        "# 1 Transforming DataFrames\n",
        "\n",
        "Let’s master the pandas basics. Learn how to inspect DataFrames and perform fundamental manipulations, including sorting rows, subsetting, and adding new columns."
      ],
      "metadata": {
        "id": "7t4-CkdIEokx"
      }
    },
    {
      "cell_type": "code",
      "source": [
        "import pandas as pd"
      ],
      "metadata": {
        "id": "iEmgpYfCJ6ab"
      },
      "execution_count": null,
      "outputs": []
    },
    {
      "cell_type": "code",
      "execution_count": null,
      "metadata": {
        "id": "8gTuynTeEWwa"
      },
      "outputs": [],
      "source": [
        ".head()#first rows"
      ]
    },
    {
      "cell_type": "code",
      "source": [
        ".info()#info about"
      ],
      "metadata": {
        "id": "3jN0zPdpFyI_"
      },
      "execution_count": null,
      "outputs": []
    },
    {
      "cell_type": "code",
      "source": [
        ".describe()#statistics"
      ],
      "metadata": {
        "id": "ZzSt5utwF3Ak"
      },
      "execution_count": null,
      "outputs": []
    },
    {
      "cell_type": "code",
      "source": [
        ".shape#dimentions"
      ],
      "metadata": {
        "id": "t0F4X1CgF1oA"
      },
      "execution_count": null,
      "outputs": []
    },
    {
      "cell_type": "code",
      "source": [
        ".values#data in two dimensional Numpy array"
      ],
      "metadata": {
        "id": "9xizHuMVGDId"
      },
      "execution_count": null,
      "outputs": []
    },
    {
      "cell_type": "code",
      "source": [
        ".columns#columns of the df"
      ],
      "metadata": {
        "id": "pG0i3_RIGN5l"
      },
      "execution_count": null,
      "outputs": []
    },
    {
      "cell_type": "code",
      "source": [
        ".index#indices of the df"
      ],
      "metadata": {
        "id": "T1arHhZgGRcn"
      },
      "execution_count": null,
      "outputs": []
    },
    {
      "cell_type": "code",
      "source": [
        ".sort_values(column,ascending=)#you can sor by multiple variables using a list of columns"
      ],
      "metadata": {
        "id": "McA9c9OtIMe7"
      },
      "execution_count": null,
      "outputs": []
    },
    {
      "cell_type": "code",
      "source": [
        ".isin(values)#you cal filter rows using this"
      ],
      "metadata": {
        "id": "A5ijuxApJZJR"
      },
      "execution_count": null,
      "outputs": []
    },
    {
      "cell_type": "markdown",
      "source": [
        "# 2 Aggregating DataFrames\n",
        "\n",
        "In this chapter, you’ll calculate summary statistics on DataFrame columns, and master grouped summary statistics and pivot tables"
      ],
      "metadata": {
        "id": "0vxeRx1tEs-u"
      }
    },
    {
      "cell_type": "markdown",
      "source": [
        "## SUMMARY STATISTICS"
      ],
      "metadata": {
        "id": "Yfw45oNoVw8p"
      }
    },
    {
      "cell_type": "code",
      "source": [
        ".mean()"
      ],
      "metadata": {
        "id": "2hZ1A2RwV1ym"
      },
      "execution_count": null,
      "outputs": []
    },
    {
      "cell_type": "code",
      "source": [
        ".median()"
      ],
      "metadata": {
        "id": "-udwMGa9WIje"
      },
      "execution_count": null,
      "outputs": []
    },
    {
      "cell_type": "code",
      "source": [
        ".mode()"
      ],
      "metadata": {
        "id": "o233uNyMWJ7W"
      },
      "execution_count": null,
      "outputs": []
    },
    {
      "cell_type": "code",
      "source": [
        ".min()"
      ],
      "metadata": {
        "id": "XlbkHbqdWLeh"
      },
      "execution_count": null,
      "outputs": []
    },
    {
      "cell_type": "code",
      "source": [
        ".max()"
      ],
      "metadata": {
        "id": "-QioTuFeWMZG"
      },
      "execution_count": null,
      "outputs": []
    },
    {
      "cell_type": "code",
      "source": [
        ".var()"
      ],
      "metadata": {
        "id": "Kz4Go5FqWQ5I"
      },
      "execution_count": null,
      "outputs": []
    },
    {
      "cell_type": "code",
      "source": [
        ".std()"
      ],
      "metadata": {
        "id": "yiB3JS5ZWSAe"
      },
      "execution_count": null,
      "outputs": []
    },
    {
      "cell_type": "code",
      "source": [
        ".sum()"
      ],
      "metadata": {
        "id": "O2-0mpfKWU5-"
      },
      "execution_count": null,
      "outputs": []
    },
    {
      "cell_type": "code",
      "source": [
        ".quantile()"
      ],
      "metadata": {
        "id": "_rVy-a_pWV5t"
      },
      "execution_count": null,
      "outputs": []
    },
    {
      "cell_type": "code",
      "source": [
        ".agg(function_name or list of functions)"
      ],
      "metadata": {
        "id": "X1SvjFs-WqyK"
      },
      "execution_count": null,
      "outputs": []
    },
    {
      "cell_type": "code",
      "source": [
        ".cumsum()"
      ],
      "metadata": {
        "id": "p1rjEpyCW9fy"
      },
      "execution_count": null,
      "outputs": []
    },
    {
      "cell_type": "code",
      "source": [
        ".cummax()"
      ],
      "metadata": {
        "id": "5BgdVoMAXH8J"
      },
      "execution_count": null,
      "outputs": []
    },
    {
      "cell_type": "code",
      "source": [
        ".cummin()"
      ],
      "metadata": {
        "id": "kkRlziTFXNCm"
      },
      "execution_count": null,
      "outputs": []
    },
    {
      "cell_type": "code",
      "source": [
        ".cumprod()"
      ],
      "metadata": {
        "id": "ytW4RLCDXOjD"
      },
      "execution_count": null,
      "outputs": []
    },
    {
      "cell_type": "markdown",
      "source": [
        "## count"
      ],
      "metadata": {
        "id": "0k0eypgCsGWy"
      }
    },
    {
      "cell_type": "code",
      "source": [
        ".drop_duplicates(subset=column)#the column could be just one or even more"
      ],
      "metadata": {
        "id": "m_9PTbXJsIS_"
      },
      "execution_count": null,
      "outputs": []
    },
    {
      "cell_type": "code",
      "source": [
        ".value_counts(sort=True)"
      ],
      "metadata": {
        "id": "9sNGcITjsc8G"
      },
      "execution_count": null,
      "outputs": []
    },
    {
      "cell_type": "code",
      "source": [
        ".value_counts(normalize=True)#return the fraction of the total of each value"
      ],
      "metadata": {
        "id": "RFAmwu-pssem"
      },
      "execution_count": null,
      "outputs": []
    },
    {
      "cell_type": "markdown",
      "source": [
        "## Grouped summary statistics"
      ],
      "metadata": {
        "id": "ylU6iZZkbTmi"
      }
    },
    {
      "cell_type": "code",
      "source": [
        "df.groupby(column name)[variable or variables].agg(functions or a list of functions to apply)"
      ],
      "metadata": {
        "id": "Gqfa5jQ_bZXb"
      },
      "execution_count": null,
      "outputs": []
    },
    {
      "cell_type": "markdown",
      "source": [
        "## Pivote Tables"
      ],
      "metadata": {
        "id": "73r8FMiyg15k"
      }
    },
    {
      "cell_type": "code",
      "source": [
        "df.pivot_table(values=numeric column,columns=values of columns,index=index values,aggfunc=function or a list,fill_value=numeric,margins=to fill NAN calculate total)"
      ],
      "metadata": {
        "id": "LROFlmZ0g0U0"
      },
      "execution_count": null,
      "outputs": []
    },
    {
      "cell_type": "markdown",
      "source": [
        "# 3 Slicing and Indexing DataFrames\n",
        "\n",
        "Indexes are supercharged row and column names. Learn how they can be combined with slicing for powerful DataFrame subsetting"
      ],
      "metadata": {
        "id": "A3bYDicvE1IS"
      }
    },
    {
      "cell_type": "markdown",
      "source": [
        "## Explicit Indexes"
      ],
      "metadata": {
        "id": "BnecLq3cmTsZ"
      }
    },
    {
      "cell_type": "code",
      "source": [
        ".set_index(column name)#cambiar el indice del df por los valores de una columna en especifico"
      ],
      "metadata": {
        "id": "pzAlAFt5mTGM"
      },
      "execution_count": null,
      "outputs": []
    },
    {
      "cell_type": "code",
      "source": [
        ".reset_index(drop = True)#reinicia el indice nuevamente y el indice anterior los pasa a una nueva columna o lo elimina si usas el argumeento drop"
      ],
      "metadata": {
        "id": "wr2HVrzz4H06"
      },
      "execution_count": null,
      "outputs": []
    },
    {
      "cell_type": "code",
      "source": [
        ".sort_index()#ordena el df en base a los valores del indice puedes usar el level argument para especificar el indice en caso de ser multindice "
      ],
      "metadata": {
        "id": "frIe8SuU6On5"
      },
      "execution_count": null,
      "outputs": []
    },
    {
      "cell_type": "markdown",
      "source": [
        "## Slicing and Subseting using .loc"
      ],
      "metadata": {
        "id": "bpV7Cwwb-3RX"
      }
    },
    {
      "cell_type": "code",
      "source": [
        "df.loc['str1':'str2']#son inclusivos tanto el primero como el segundo argumento"
      ],
      "metadata": {
        "id": "LqASq719-7WA"
      },
      "execution_count": null,
      "outputs": []
    },
    {
      "cell_type": "code",
      "source": [
        "df.iloc[num1:num2]#el primer numero es inclusivo pero el segundo no los es"
      ],
      "metadata": {
        "id": "HGQSOv4S__Ga"
      },
      "execution_count": null,
      "outputs": []
    },
    {
      "cell_type": "markdown",
      "source": [
        "## Working with Pivot Tables"
      ],
      "metadata": {
        "id": "o6oDV4keIAzI"
      }
    },
    {
      "cell_type": "markdown",
      "source": [
        "date columns"
      ],
      "metadata": {
        "id": "WY44Yh5EQlxz"
      }
    },
    {
      "cell_type": "code",
      "source": [
        "temperatures.date.dt.year#puedes acceder al año"
      ],
      "metadata": {
        "id": "JuPGWqkxOvfo"
      },
      "execution_count": null,
      "outputs": []
    },
    {
      "cell_type": "code",
      "source": [
        "temperatures.date.dt.month#puedes accceder al me etc"
      ],
      "metadata": {
        "id": "Fr6-StHVQsVT"
      },
      "execution_count": null,
      "outputs": []
    },
    {
      "cell_type": "markdown",
      "source": [
        "# 4 Creating and Visualizing DataFrames\n",
        "\n",
        "Learn to visualize the contents of your DataFrames, handle missing data values, and import data from and export data to CSV files."
      ],
      "metadata": {
        "id": "UsT-SGzRE7FP"
      }
    },
    {
      "cell_type": "markdown",
      "source": [
        "## Visualizing Your Data"
      ],
      "metadata": {
        "id": "An5Duy5rVsWb"
      }
    },
    {
      "cell_type": "code",
      "source": [
        "df.plot(x='xaxis',y='yaxis',kind='line or bar etc',rot=grades)"
      ],
      "metadata": {
        "id": "5Ejfllq2FCX-"
      },
      "execution_count": null,
      "outputs": []
    },
    {
      "cell_type": "markdown",
      "source": [
        "dos graficas en la misma imagen"
      ],
      "metadata": {
        "id": "rF7s2HsxdCwU"
      }
    },
    {
      "cell_type": "code",
      "source": [
        "df.hist(,alpha=0.5)\n",
        "df.hist()\n",
        "plt.legend()\n",
        "plt.show()"
      ],
      "metadata": {
        "id": "QWmqNmRvcvAD"
      },
      "execution_count": null,
      "outputs": []
    },
    {
      "cell_type": "markdown",
      "source": [
        "## Missing Values"
      ],
      "metadata": {
        "id": "ZyiMP5mtloCW"
      }
    },
    {
      "cell_type": "code",
      "source": [
        "df.isna().any()#una lista que indica si las culumnas tienen algun missing value"
      ],
      "metadata": {
        "id": "wdfEEPW2lqQe"
      },
      "execution_count": null,
      "outputs": []
    },
    {
      "cell_type": "code",
      "source": [
        "df.isna().sum()#el total de missing values por coluna"
      ],
      "metadata": {
        "id": "kCM7jepxmHnH"
      },
      "execution_count": null,
      "outputs": []
    },
    {
      "cell_type": "code",
      "source": [
        "df.dropna()#elimina todos los registros que tienen algun missing value"
      ],
      "metadata": {
        "id": "PXXu8qQimk6L"
      },
      "execution_count": null,
      "outputs": []
    },
    {
      "cell_type": "code",
      "source": [
        "df.fillna(number)#cambia los missing values por el valor de number"
      ],
      "metadata": {
        "id": "YCig1FkCm6S2"
      },
      "execution_count": null,
      "outputs": []
    },
    {
      "cell_type": "markdown",
      "source": [
        "## Creating df\n",
        "\n",
        "- Row by row usando una lista de diccionarios\n",
        "- Column by column usando un diccionario de listas\n",
        "\n",
        "`funcion pd.DataFrame()`"
      ],
      "metadata": {
        "id": "uBsEnz2apAR5"
      }
    },
    {
      "cell_type": "code",
      "source": [
        "import pandas as pd"
      ],
      "metadata": {
        "id": "YU2dQA7fql2W"
      },
      "execution_count": null,
      "outputs": []
    },
    {
      "cell_type": "code",
      "source": [
        "import numpy as np"
      ],
      "metadata": {
        "id": "cLo_wwNJ0nCq"
      },
      "execution_count": null,
      "outputs": []
    },
    {
      "cell_type": "markdown",
      "source": [
        "### lista de diccionarios\n",
        "\n"
      ],
      "metadata": {
        "id": "SNDABANiqYSh"
      }
    },
    {
      "cell_type": "code",
      "source": [
        "# Create a list of dictionaries with new data\n",
        "avocados_list = [\n",
        "    {'date': '2019-11-03', 'small_sold': 10376832, 'large_sold': 7835071},\n",
        "    {'date': '2019-11-10', 'small_sold': 10717154, 'large_sold': 8561348},\n",
        "]\n",
        "\n"
      ],
      "metadata": {
        "id": "R6GNvMBppaVJ"
      },
      "execution_count": null,
      "outputs": []
    },
    {
      "cell_type": "code",
      "source": [
        "# Convert list into DataFrame\n",
        "avocados_2019 = pd.DataFrame(avocados_list)\n",
        "\n",
        "# Print the new DataFrame\n",
        "avocados_2019"
      ],
      "metadata": {
        "colab": {
          "base_uri": "https://localhost:8080/"
        },
        "id": "WqcUolicqhAR",
        "outputId": "c4ff47c7-8b9d-4683-c409-dbdeb7313f4d"
      },
      "execution_count": null,
      "outputs": [
        {
          "output_type": "execute_result",
          "data": {
            "text/html": [
              "\n",
              "  <div id=\"df-3d302856-e402-4a41-adbd-e227b6fd1a39\">\n",
              "    <div class=\"colab-df-container\">\n",
              "      <div>\n",
              "<style scoped>\n",
              "    .dataframe tbody tr th:only-of-type {\n",
              "        vertical-align: middle;\n",
              "    }\n",
              "\n",
              "    .dataframe tbody tr th {\n",
              "        vertical-align: top;\n",
              "    }\n",
              "\n",
              "    .dataframe thead th {\n",
              "        text-align: right;\n",
              "    }\n",
              "</style>\n",
              "<table border=\"1\" class=\"dataframe\">\n",
              "  <thead>\n",
              "    <tr style=\"text-align: right;\">\n",
              "      <th></th>\n",
              "      <th>date</th>\n",
              "      <th>small_sold</th>\n",
              "      <th>large_sold</th>\n",
              "    </tr>\n",
              "  </thead>\n",
              "  <tbody>\n",
              "    <tr>\n",
              "      <th>0</th>\n",
              "      <td>2019-11-03</td>\n",
              "      <td>10376832</td>\n",
              "      <td>7835071</td>\n",
              "    </tr>\n",
              "    <tr>\n",
              "      <th>1</th>\n",
              "      <td>2019-11-10</td>\n",
              "      <td>10717154</td>\n",
              "      <td>8561348</td>\n",
              "    </tr>\n",
              "  </tbody>\n",
              "</table>\n",
              "</div>\n",
              "      <button class=\"colab-df-convert\" onclick=\"convertToInteractive('df-3d302856-e402-4a41-adbd-e227b6fd1a39')\"\n",
              "              title=\"Convert this dataframe to an interactive table.\"\n",
              "              style=\"display:none;\">\n",
              "        \n",
              "  <svg xmlns=\"http://www.w3.org/2000/svg\" height=\"24px\"viewBox=\"0 0 24 24\"\n",
              "       width=\"24px\">\n",
              "    <path d=\"M0 0h24v24H0V0z\" fill=\"none\"/>\n",
              "    <path d=\"M18.56 5.44l.94 2.06.94-2.06 2.06-.94-2.06-.94-.94-2.06-.94 2.06-2.06.94zm-11 1L8.5 8.5l.94-2.06 2.06-.94-2.06-.94L8.5 2.5l-.94 2.06-2.06.94zm10 10l.94 2.06.94-2.06 2.06-.94-2.06-.94-.94-2.06-.94 2.06-2.06.94z\"/><path d=\"M17.41 7.96l-1.37-1.37c-.4-.4-.92-.59-1.43-.59-.52 0-1.04.2-1.43.59L10.3 9.45l-7.72 7.72c-.78.78-.78 2.05 0 2.83L4 21.41c.39.39.9.59 1.41.59.51 0 1.02-.2 1.41-.59l7.78-7.78 2.81-2.81c.8-.78.8-2.07 0-2.86zM5.41 20L4 18.59l7.72-7.72 1.47 1.35L5.41 20z\"/>\n",
              "  </svg>\n",
              "      </button>\n",
              "      \n",
              "  <style>\n",
              "    .colab-df-container {\n",
              "      display:flex;\n",
              "      flex-wrap:wrap;\n",
              "      gap: 12px;\n",
              "    }\n",
              "\n",
              "    .colab-df-convert {\n",
              "      background-color: #E8F0FE;\n",
              "      border: none;\n",
              "      border-radius: 50%;\n",
              "      cursor: pointer;\n",
              "      display: none;\n",
              "      fill: #1967D2;\n",
              "      height: 32px;\n",
              "      padding: 0 0 0 0;\n",
              "      width: 32px;\n",
              "    }\n",
              "\n",
              "    .colab-df-convert:hover {\n",
              "      background-color: #E2EBFA;\n",
              "      box-shadow: 0px 1px 2px rgba(60, 64, 67, 0.3), 0px 1px 3px 1px rgba(60, 64, 67, 0.15);\n",
              "      fill: #174EA6;\n",
              "    }\n",
              "\n",
              "    [theme=dark] .colab-df-convert {\n",
              "      background-color: #3B4455;\n",
              "      fill: #D2E3FC;\n",
              "    }\n",
              "\n",
              "    [theme=dark] .colab-df-convert:hover {\n",
              "      background-color: #434B5C;\n",
              "      box-shadow: 0px 1px 3px 1px rgba(0, 0, 0, 0.15);\n",
              "      filter: drop-shadow(0px 1px 2px rgba(0, 0, 0, 0.3));\n",
              "      fill: #FFFFFF;\n",
              "    }\n",
              "  </style>\n",
              "\n",
              "      <script>\n",
              "        const buttonEl =\n",
              "          document.querySelector('#df-3d302856-e402-4a41-adbd-e227b6fd1a39 button.colab-df-convert');\n",
              "        buttonEl.style.display =\n",
              "          google.colab.kernel.accessAllowed ? 'block' : 'none';\n",
              "\n",
              "        async function convertToInteractive(key) {\n",
              "          const element = document.querySelector('#df-3d302856-e402-4a41-adbd-e227b6fd1a39');\n",
              "          const dataTable =\n",
              "            await google.colab.kernel.invokeFunction('convertToInteractive',\n",
              "                                                     [key], {});\n",
              "          if (!dataTable) return;\n",
              "\n",
              "          const docLinkHtml = 'Like what you see? Visit the ' +\n",
              "            '<a target=\"_blank\" href=https://colab.research.google.com/notebooks/data_table.ipynb>data table notebook</a>'\n",
              "            + ' to learn more about interactive tables.';\n",
              "          element.innerHTML = '';\n",
              "          dataTable['output_type'] = 'display_data';\n",
              "          await google.colab.output.renderOutput(dataTable, element);\n",
              "          const docLink = document.createElement('div');\n",
              "          docLink.innerHTML = docLinkHtml;\n",
              "          element.appendChild(docLink);\n",
              "        }\n",
              "      </script>\n",
              "    </div>\n",
              "  </div>\n",
              "  "
            ],
            "text/plain": [
              "         date  small_sold  large_sold\n",
              "0  2019-11-03    10376832     7835071\n",
              "1  2019-11-10    10717154     8561348"
            ]
          },
          "metadata": {},
          "execution_count": 3
        }
      ]
    },
    {
      "cell_type": "markdown",
      "source": [
        "### Diccionario de listas"
      ],
      "metadata": {
        "id": "cCdCQ882rMyu"
      }
    },
    {
      "cell_type": "code",
      "source": [
        "# Create a dictionary of lists with new data\n",
        "avocados_dict = {\n",
        "  \"date\": ['2019-11-17','2019-12-01','2019-12-01'],\n",
        "  \"small_sold\": [10859987,9291631,7000000],\n",
        "  \"large_sold\": [7674135,\t6238096,np.nan]\n",
        "}\n",
        "\n"
      ],
      "metadata": {
        "id": "2QJp_ANbrPJm"
      },
      "execution_count": null,
      "outputs": []
    },
    {
      "cell_type": "code",
      "source": [
        "# Convert dictionary into DataFrame\n",
        "avocados_2019 = pd.DataFrame(avocados_dict)\n",
        "\n",
        "# Print the new DataFrame\n",
        "print(avocados_2019)"
      ],
      "metadata": {
        "colab": {
          "base_uri": "https://localhost:8080/"
        },
        "id": "Fb9EbfmhrRDe",
        "outputId": "cfb14a2b-04cc-410a-b86d-dc7f1b4db97b"
      },
      "execution_count": null,
      "outputs": [
        {
          "output_type": "stream",
          "name": "stdout",
          "text": [
            "         date  small_sold  large_sold\n",
            "0  2019-11-17    10859987   7674135.0\n",
            "1  2019-12-01     9291631   6238096.0\n",
            "2  2019-12-01     7000000         NaN\n"
          ]
        }
      ]
    },
    {
      "cell_type": "code",
      "source": [
        "avocados_2019.loc[avocados_2019.small_sold.notnull() & avocados_2019.large_sold.notnull()]"
      ],
      "metadata": {
        "colab": {
          "base_uri": "https://localhost:8080/",
          "height": 112
        },
        "id": "scGvEXGN0FrC",
        "outputId": "76cc85b1-71f8-4a5f-ad45-f12aecefd6c4"
      },
      "execution_count": null,
      "outputs": [
        {
          "output_type": "execute_result",
          "data": {
            "text/html": [
              "\n",
              "  <div id=\"df-91d19f1f-c81c-44e3-90fb-53cb0925d006\">\n",
              "    <div class=\"colab-df-container\">\n",
              "      <div>\n",
              "<style scoped>\n",
              "    .dataframe tbody tr th:only-of-type {\n",
              "        vertical-align: middle;\n",
              "    }\n",
              "\n",
              "    .dataframe tbody tr th {\n",
              "        vertical-align: top;\n",
              "    }\n",
              "\n",
              "    .dataframe thead th {\n",
              "        text-align: right;\n",
              "    }\n",
              "</style>\n",
              "<table border=\"1\" class=\"dataframe\">\n",
              "  <thead>\n",
              "    <tr style=\"text-align: right;\">\n",
              "      <th></th>\n",
              "      <th>date</th>\n",
              "      <th>small_sold</th>\n",
              "      <th>large_sold</th>\n",
              "    </tr>\n",
              "  </thead>\n",
              "  <tbody>\n",
              "    <tr>\n",
              "      <th>0</th>\n",
              "      <td>2019-11-17</td>\n",
              "      <td>10859987</td>\n",
              "      <td>7674135.0</td>\n",
              "    </tr>\n",
              "    <tr>\n",
              "      <th>1</th>\n",
              "      <td>2019-12-01</td>\n",
              "      <td>9291631</td>\n",
              "      <td>6238096.0</td>\n",
              "    </tr>\n",
              "  </tbody>\n",
              "</table>\n",
              "</div>\n",
              "      <button class=\"colab-df-convert\" onclick=\"convertToInteractive('df-91d19f1f-c81c-44e3-90fb-53cb0925d006')\"\n",
              "              title=\"Convert this dataframe to an interactive table.\"\n",
              "              style=\"display:none;\">\n",
              "        \n",
              "  <svg xmlns=\"http://www.w3.org/2000/svg\" height=\"24px\"viewBox=\"0 0 24 24\"\n",
              "       width=\"24px\">\n",
              "    <path d=\"M0 0h24v24H0V0z\" fill=\"none\"/>\n",
              "    <path d=\"M18.56 5.44l.94 2.06.94-2.06 2.06-.94-2.06-.94-.94-2.06-.94 2.06-2.06.94zm-11 1L8.5 8.5l.94-2.06 2.06-.94-2.06-.94L8.5 2.5l-.94 2.06-2.06.94zm10 10l.94 2.06.94-2.06 2.06-.94-2.06-.94-.94-2.06-.94 2.06-2.06.94z\"/><path d=\"M17.41 7.96l-1.37-1.37c-.4-.4-.92-.59-1.43-.59-.52 0-1.04.2-1.43.59L10.3 9.45l-7.72 7.72c-.78.78-.78 2.05 0 2.83L4 21.41c.39.39.9.59 1.41.59.51 0 1.02-.2 1.41-.59l7.78-7.78 2.81-2.81c.8-.78.8-2.07 0-2.86zM5.41 20L4 18.59l7.72-7.72 1.47 1.35L5.41 20z\"/>\n",
              "  </svg>\n",
              "      </button>\n",
              "      \n",
              "  <style>\n",
              "    .colab-df-container {\n",
              "      display:flex;\n",
              "      flex-wrap:wrap;\n",
              "      gap: 12px;\n",
              "    }\n",
              "\n",
              "    .colab-df-convert {\n",
              "      background-color: #E8F0FE;\n",
              "      border: none;\n",
              "      border-radius: 50%;\n",
              "      cursor: pointer;\n",
              "      display: none;\n",
              "      fill: #1967D2;\n",
              "      height: 32px;\n",
              "      padding: 0 0 0 0;\n",
              "      width: 32px;\n",
              "    }\n",
              "\n",
              "    .colab-df-convert:hover {\n",
              "      background-color: #E2EBFA;\n",
              "      box-shadow: 0px 1px 2px rgba(60, 64, 67, 0.3), 0px 1px 3px 1px rgba(60, 64, 67, 0.15);\n",
              "      fill: #174EA6;\n",
              "    }\n",
              "\n",
              "    [theme=dark] .colab-df-convert {\n",
              "      background-color: #3B4455;\n",
              "      fill: #D2E3FC;\n",
              "    }\n",
              "\n",
              "    [theme=dark] .colab-df-convert:hover {\n",
              "      background-color: #434B5C;\n",
              "      box-shadow: 0px 1px 3px 1px rgba(0, 0, 0, 0.15);\n",
              "      filter: drop-shadow(0px 1px 2px rgba(0, 0, 0, 0.3));\n",
              "      fill: #FFFFFF;\n",
              "    }\n",
              "  </style>\n",
              "\n",
              "      <script>\n",
              "        const buttonEl =\n",
              "          document.querySelector('#df-91d19f1f-c81c-44e3-90fb-53cb0925d006 button.colab-df-convert');\n",
              "        buttonEl.style.display =\n",
              "          google.colab.kernel.accessAllowed ? 'block' : 'none';\n",
              "\n",
              "        async function convertToInteractive(key) {\n",
              "          const element = document.querySelector('#df-91d19f1f-c81c-44e3-90fb-53cb0925d006');\n",
              "          const dataTable =\n",
              "            await google.colab.kernel.invokeFunction('convertToInteractive',\n",
              "                                                     [key], {});\n",
              "          if (!dataTable) return;\n",
              "\n",
              "          const docLinkHtml = 'Like what you see? Visit the ' +\n",
              "            '<a target=\"_blank\" href=https://colab.research.google.com/notebooks/data_table.ipynb>data table notebook</a>'\n",
              "            + ' to learn more about interactive tables.';\n",
              "          element.innerHTML = '';\n",
              "          dataTable['output_type'] = 'display_data';\n",
              "          await google.colab.output.renderOutput(dataTable, element);\n",
              "          const docLink = document.createElement('div');\n",
              "          docLink.innerHTML = docLinkHtml;\n",
              "          element.appendChild(docLink);\n",
              "        }\n",
              "      </script>\n",
              "    </div>\n",
              "  </div>\n",
              "  "
            ],
            "text/plain": [
              "         date  small_sold  large_sold\n",
              "0  2019-11-17    10859987   7674135.0\n",
              "1  2019-12-01     9291631   6238096.0"
            ]
          },
          "metadata": {},
          "execution_count": 14
        }
      ]
    },
    {
      "cell_type": "markdown",
      "source": [
        "## Reading and writting a csv"
      ],
      "metadata": {
        "id": "z_V2uDqeuyjS"
      }
    },
    {
      "cell_type": "code",
      "source": [
        "df=pd.read_csv(path)"
      ],
      "metadata": {
        "id": "3NF8Y5jLu2ji"
      },
      "execution_count": null,
      "outputs": []
    },
    {
      "cell_type": "code",
      "source": [
        "df.to_csv(path)"
      ],
      "metadata": {
        "id": "7TIk932Vu6H8"
      },
      "execution_count": null,
      "outputs": []
    },
    {
      "cell_type": "markdown",
      "source": [
        "# [Project](https://projects.datacamp.com/projects/619)"
      ],
      "metadata": {
        "id": "gEwiOivcuC4j"
      }
    },
    {
      "cell_type": "code",
      "source": [
        "# eliminar caracteres en los registros\n",
        "\n",
        "chars_to_remove = ['+',',','$']\n",
        "# List of column names to clean\n",
        "cols_to_clean = ['Installs','Price']\n",
        "\n",
        "# Loop for each column in cols_to_clean\n",
        "for col in cols_to_clean:\n",
        "    # Loop for each char in chars_to_remove\n",
        "    for char in chars_to_remove:\n",
        "        # Replace the character with an empty string\n",
        "        apps[col] = apps[col].apply(lambda x: x.replace(char, ''))\n",
        "        \n",
        "# Print a summary of the apps dataframe\n",
        "print(apps.info())"
      ],
      "metadata": {
        "id": "qImsSCE3uF4b"
      },
      "execution_count": null,
      "outputs": []
    },
    {
      "cell_type": "code",
      "source": [
        "# cambiar el tipo de dato de un df\n",
        "\n",
        ".astype(float)"
      ],
      "metadata": {
        "id": "Uce1qr0eucJ5"
      },
      "execution_count": null,
      "outputs": []
    },
    {
      "cell_type": "code",
      "source": [
        "# grafica con plotly\n",
        "\n",
        "import plotly\n",
        "plotly.offline.init_notebook_mode(connected=True)\n",
        "import plotly.graph_objs as go\n",
        "\n",
        "# Print the total number of unique categories\n",
        "num_categories = len(apps.Category.unique())\n",
        "print('Number of categories = ', num_categories)\n",
        "\n",
        "# Count the number of apps in each 'Category'. \n",
        "num_apps_in_category = apps.Category.value_counts()\n",
        "\n",
        "# Sort num_apps_in_category in descending order based on the count of apps in each category\n",
        "sorted_num_apps_in_category = num_apps_in_category.sort_values(ascending = False)\n",
        "\n",
        "data = [go.Bar(\n",
        "        x = num_apps_in_category.index, # index = category name\n",
        "        y = num_apps_in_category.values, # value = count\n",
        ")]\n",
        "\n",
        "plotly.offline.iplot(data)"
      ],
      "metadata": {
        "id": "IVV6_kO0ugM6"
      },
      "execution_count": null,
      "outputs": []
    },
    {
      "cell_type": "markdown",
      "source": [
        "Plotly histogram [documentation](https://plotly.com/python/histograms/)"
      ],
      "metadata": {
        "id": "Kr990rdBw6le"
      }
    },
    {
      "cell_type": "code",
      "source": [
        "# Histograma con plotly\n",
        "\n",
        "# Average rating of apps\n",
        "avg_app_rating = apps.Rating.mean()\n",
        "print('Average app rating = ', avg_app_rating)\n",
        "\n",
        "# Distribution of apps according to their ratings\n",
        "data = [go.Histogram(\n",
        "        x = apps['Rating']\n",
        ")]\n",
        "\n",
        "# Vertical dashed line to indicate the average app rating\n",
        "layout = {'shapes': [{\n",
        "              'type' :'line',\n",
        "              'x0': avg_app_rating,\n",
        "              'y0': 0,\n",
        "              'x1': avg_app_rating,\n",
        "              'y1': 1000,\n",
        "              'line': { 'dash': 'dashdot'}\n",
        "          }]\n",
        "          }\n",
        "\n",
        "plotly.offline.iplot({'data': data, 'layout': layout})"
      ],
      "metadata": {
        "id": "CWFti2GCw211"
      },
      "execution_count": null,
      "outputs": []
    },
    {
      "cell_type": "markdown",
      "source": [
        "joinplot() [documentation](https://seaborn.pydata.org/generated/seaborn.jointplot.html)"
      ],
      "metadata": {
        "id": "__HOumT53CLA"
      }
    },
    {
      "cell_type": "code",
      "source": [
        "## joinplot con seaborn\n",
        "\n",
        "%matplotlib inline\n",
        "import seaborn as sns\n",
        "sns.set_style(\"darkgrid\")\n",
        "import warnings\n",
        "warnings.filterwarnings(\"ignore\")\n",
        "\n",
        "# Select rows where both 'Rating' and 'Size' values are present (ie. the two values are not null)\n",
        "apps_with_size_and_rating_present = apps.loc[apps.Rating.notnull() & apps.Size.notnull()]\n",
        "\n",
        "# Subset for categories with at least 250 apps\n",
        "large_categories = apps_with_size_and_rating_present.groupby('Category').filter(lambda x: len(x) >= 250)\n",
        "\n",
        "# Plot size vs. rating\n",
        "plt1 = sns.jointplot(x = large_categories['Size'], y = large_categories['Rating'])\n",
        "\n",
        "# Select apps whose 'Type' is 'Paid'\n",
        "paid_apps = apps_with_size_and_rating_present.loc[apps_with_size_and_rating_present.Type == 'Paid']\n",
        "\n",
        "# Plot price vs. rating\n",
        "plt2 = sns.jointplot(x = paid_apps['Price'], y = paid_apps['Rating'])"
      ],
      "metadata": {
        "id": "l1AqjiM_3KwP"
      },
      "execution_count": null,
      "outputs": []
    },
    {
      "cell_type": "code",
      "source": [
        "# otra grafica bonita\n",
        "\n",
        "import matplotlib.pyplot as plt\n",
        "fig, ax = plt.subplots()\n",
        "fig.set_size_inches(15, 8)\n",
        "\n",
        "# Select a few popular app categories\n",
        "popular_app_cats = apps[apps.Category.isin(['GAME', 'FAMILY', 'PHOTOGRAPHY',\n",
        "                                            'MEDICAL', 'TOOLS', 'FINANCE',\n",
        "                                            'LIFESTYLE','BUSINESS'])]\n",
        "\n",
        "# Examine the price trend by plotting Price vs Category\n",
        "ax = sns.stripplot(x = popular_app_cats['Price'], y = popular_app_cats['Category'], jitter=True, linewidth=1)\n",
        "ax.set_title('App pricing trend across categories')\n",
        "\n",
        "# Apps whose Price is greater than 200\n",
        "apps_above_200 = popular_app_cats.loc[popular_app_cats.Price > 200]\n",
        "apps_above_200[['Category', 'App', 'Price']]"
      ],
      "metadata": {
        "id": "rjxvPVt14WbN"
      },
      "execution_count": null,
      "outputs": []
    },
    {
      "cell_type": "markdown",
      "source": [
        "## Box Plot\n",
        "- [Plotly Box plot](https://plot.ly/python/box-plots/)\n",
        "- [Interpreting Box plots](https://www.wellbeingatschool.org.nz/information-sheet/understanding-and-interpreting-box-plots)"
      ],
      "metadata": {
        "id": "Exly8agP_-HB"
      }
    },
    {
      "cell_type": "code",
      "source": [
        "## otra grafica\n",
        "\n",
        "trace0 = go.Box(\n",
        "    # Data for paid apps\n",
        "    y = apps[apps['Type'] == 'Paid']['Installs'],\n",
        "    name = 'Paid'\n",
        ")\n",
        "\n",
        "trace1 = go.Box(\n",
        "    # Data for free apps\n",
        "    y = apps[apps['Type'] == 'Free']['Installs'],\n",
        "    name = 'Free'\n",
        ")\n",
        "\n",
        "layout = go.Layout(\n",
        "    title = \"Number of downloads of paid apps vs. free apps\",\n",
        "    yaxis = dict(title = \"Log number of downloads\",\n",
        "                type = 'log',\n",
        "                autorange = True)\n",
        ")\n",
        "\n",
        "# Add trace0 and trace1 to a list for plotting\n",
        "data = [trace0, trace1]\n",
        "plotly.offline.iplot({'data': data, 'layout': layout})"
      ],
      "metadata": {
        "id": "0A3XwoFs_5O9"
      },
      "execution_count": null,
      "outputs": []
    }
  ]
}